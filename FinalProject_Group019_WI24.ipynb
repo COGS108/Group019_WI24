{
 "cells": [
  {
   "cell_type": "markdown",
   "metadata": {},
   "source": [
    "# COGS 108 - Final Project (change this to your project's title)\n",
    "\n",
    "# Permissions\n",
    "\n",
    "Place an `X` in the appropriate bracket below to specify if you would like your group's project to be made available to the public. (Note that student names will be included (but PIDs will be scraped from any groups who include their PIDs).\n",
    "\n",
    "* [  ] YES - make available\n",
    "* [  ] NO - keep private\n",
    "\n",
    "# Names\n",
    "\n",
    "- McKayla David\n",
    "- Sebastian Modafferi\n",
    "- Anna Potapenko\n",
    "- Matthew Chan\n",
    "- Kirthin Rajkumar\n",
    "\n",
    "# Abstract\n",
    "\n",
    "Please write one to four paragraphs that describe a very brief overview of why you did this, how you did, and the major findings and conclusions."
   ]
  },
  {
   "cell_type": "markdown",
   "metadata": {},
   "source": [
    "# Research Question"
   ]
  },
  {
   "cell_type": "markdown",
   "metadata": {},
   "source": [
    "On a global economic scale, do larger companies, measured on the basis of funding and quantity of employees, lay off a higher percentage of employees than smaller companies? What indicators specifically can be used to predict the percentage of employees laid off?\n"
   ]
  },
  {
   "cell_type": "markdown",
   "metadata": {},
   "source": [
    "## Background and Prior Work"
   ]
  },
  {
   "cell_type": "markdown",
   "metadata": {},
   "source": [
    "Layoffs refer to economic and organizational changes, and are a significant indicator of the success and development of companies. While they affect employees, layoff rates have a broader implication on the health of the economy, industry trends, and the state of the workforce. Understanding the trends and impacts of layoffs is vital not only on a global economic scale, but within communities of stakeholders and individual communities.\n",
    "\n",
    "Layoffs are important to study due to their relevance to both companies and employees. For a company, understanding indicators which can predict imminent layoffs can help them course correct before reaching a point of no return. On the other hand, employees understanding layoff indicators can help them in choosing the correct company for their next role, ensuring job safety. \n",
    "\n",
    "Research published in the Journal of the European Economic Association [1^](#https://academic.oup.com/jeea/article-abstract/18/1/427/5247011) explored the economic influences that cause layoffs, and inquired into how financial health and market factors influence layoff decisions. A similar study published in Journal of Labor Economics looks into the effects of layoffs on unemployment rates, and found that layoffs can have lasting impact on the job market and employee career trajectory.\n",
    "\n",
    "The journal of Labor Empirical Finance [3^](#https://doi.org/10.1016/s0927-5398\\(01\\)00024-x) also looks into the different firms and what caused their layoffs, giving insight into company restructuring and different technologies that help to modify the workforce requirements. Additionally, past precedent reviewed by JSTOR [2^](#https://www.jstor.org/stable/117002?casa_token=m7s1bFw7mY4AAAAA%3AhaYXwJWsj5E0Xo7vbnjns6omvUnSFYlenLVZ99nBhONKkQRCLyfLIdEk3ZJycob9If4HtLaMga7y7cQzrzAO6QfJYXTkccHfVciVYhTXREH7HSHuGN4) article explains the repetition of layoffs and how it correlates with economic cycles. This suggests that layoffs are an essential part of economic growth.\n",
    "\n",
    "Research on layoffs adopts an interdisciplinary approach, using economic theories, organizational behavior, and societal impacts. Overall, it is imperative to understand the factors that influence layoffs because knowledge about these factors can help researchers develop strategies to mitigate the negative effects of layoffs on employees and the economy at large. Existing work does not provide internal indicators for when a company is about to execute layoffs, so our research seeks to identify a correlation between company size and layoffs.\n",
    "\n",
    "1. <a name=\"Journal of the European Economic Association\"></a> [^](#https://academic.oup.com/jeea/article-abstract/18/1/427/5247011) Gathmann, C., Helm, I., & Schönberg, U. (2018). Spillover effects of mass layoffs. Journal of the European Economic Association, 18(1), 427–468. https://doi.org/10.1093/jeea/jvy045\n",
    "2. <a name=\"JSTOR\"></a> [^](#cite_ref-2) Hallock, Kevin, (1998). Layoffs, top executive pay, and firm performance on JSTOR. (n.d.). www.jstor.org. https://www.jstor.org/stable/117002\n",
    "3. <a name=\"Journal of Empirical Finance\"></a> [^](#https://doi.org/10.1016/s0927-5398\\(01\\)00024-x) Chen, P., Mehrotra, V., Sivakumar, R., & Yu, W. (2001). Layoffs, shareholders’ wealth, and corporate performance. Journal of Empirical Finance, 8(2), 171–199. https://doi.org/10.1016/s0927-5398(01)00024-x\n"
   ]
  },
  {
   "cell_type": "markdown",
   "metadata": {},
   "source": [
    "# Hypothesis\n"
   ]
  },
  {
   "cell_type": "markdown",
   "metadata": {},
   "source": [
    "We hypothesize that larger companies lay off a higher percentage of employees, especially amidst a recession, than smaller companies. We are inclined to believe this due to the fact that smaller companies already have less employees, so lay-offs are more likely to harm the business than benefit it. Additionally, larger companies are able to withstand more financial pressure, allowing them to perform large layoffs despite the impact on company performance given that they have enough capital with withstand the losses."
   ]
  },
  {
   "cell_type": "markdown",
   "metadata": {},
   "source": [
    "# Data"
   ]
  },
  {
   "cell_type": "markdown",
   "metadata": {},
   "source": [
    "## Data overview\n",
    "\n",
    "For each dataset include the following information\n",
    "- Dataset #1 - Kaggle\n",
    "  - Dataset Name: \"Tech Layoffs 2020-2024\"\n",
    "  - https://www.kaggle.com/datasets/ulrikeherold/tech-layoffs-2020-2024\n",
    "  - Number of observations: 1418\n",
    "  - Number of variables: 16\n",
    "\n",
    "This dataset was webscraped from layoffs.fyi. It contains layoff data over the past 4 years which was webscraped from news articles. The key data variables we will be using are `Money_Raised_in_$_mil`, `Percentage`, `Laid_Off`, `Funding`, and `Stage`. We are focusing analysis on these columns because they contain vital information about layoffs and how the company is performing. It comes fairly clean, and the only correction required is the `Money_Raised_in_$_mil` column, as it initally was stored as a string containing a dollar sign character."
   ]
  },
  {
   "cell_type": "markdown",
   "metadata": {},
   "source": [
    "## Layoffs.fyi Dataset"
   ]
  },
  {
   "cell_type": "markdown",
   "metadata": {},
   "source": [
    "We begin our data analysis by loading in the data, and cleaning the data to best suit our exploratory needs."
   ]
  },
  {
   "cell_type": "code",
   "execution_count": 1,
   "metadata": {},
   "outputs": [],
   "source": [
    "import pandas as pd\n",
    "import numpy as np\n",
    "import seaborn as sns\n",
    "import matplotlib.pyplot as plt\n",
    "\n",
    "import patsy\n",
    "import statsmodels.api as sm\n",
    "import warnings\n",
    "import scipy.stats as stats\n",
    "import cartopy.crs as ccrs\n",
    "import cartopy.feature as cfeature\n",
    "from scipy.stats import ttest_ind, chisquare, normaltest\n",
    "from statsmodels.formula.api import ols\n",
    "from collections import defaultdict"
   ]
  },
  {
   "cell_type": "code",
   "execution_count": 2,
   "metadata": {},
   "outputs": [
    {
     "data": {
      "text/html": [
       "<div>\n",
       "<style scoped>\n",
       "    .dataframe tbody tr th:only-of-type {\n",
       "        vertical-align: middle;\n",
       "    }\n",
       "\n",
       "    .dataframe tbody tr th {\n",
       "        vertical-align: top;\n",
       "    }\n",
       "\n",
       "    .dataframe thead th {\n",
       "        text-align: right;\n",
       "    }\n",
       "</style>\n",
       "<table border=\"1\" class=\"dataframe\">\n",
       "  <thead>\n",
       "    <tr style=\"text-align: right;\">\n",
       "      <th></th>\n",
       "      <th>#</th>\n",
       "      <th>Company</th>\n",
       "      <th>Location_HQ</th>\n",
       "      <th>Country</th>\n",
       "      <th>Continent</th>\n",
       "      <th>Laid_Off</th>\n",
       "      <th>Date_layoffs</th>\n",
       "      <th>Percentage</th>\n",
       "      <th>Company_Size_before_Layoffs</th>\n",
       "      <th>Company_Size_after_layoffs</th>\n",
       "      <th>Industry</th>\n",
       "      <th>Stage</th>\n",
       "      <th>Money_Raised_in_$_mil</th>\n",
       "      <th>Year</th>\n",
       "      <th>lat</th>\n",
       "      <th>lng</th>\n",
       "    </tr>\n",
       "  </thead>\n",
       "  <tbody>\n",
       "    <tr>\n",
       "      <th>0</th>\n",
       "      <td>3</td>\n",
       "      <td>ShareChat</td>\n",
       "      <td>Bengaluru</td>\n",
       "      <td>India</td>\n",
       "      <td>Asia</td>\n",
       "      <td>200</td>\n",
       "      <td>2023-12-20</td>\n",
       "      <td>15.0</td>\n",
       "      <td>1333</td>\n",
       "      <td>1133</td>\n",
       "      <td>Consumer</td>\n",
       "      <td>Series H</td>\n",
       "      <td>$1700</td>\n",
       "      <td>2023</td>\n",
       "      <td>12.97194</td>\n",
       "      <td>77.59369</td>\n",
       "    </tr>\n",
       "    <tr>\n",
       "      <th>1</th>\n",
       "      <td>4</td>\n",
       "      <td>InSightec</td>\n",
       "      <td>Haifa</td>\n",
       "      <td>Israel</td>\n",
       "      <td>Asia</td>\n",
       "      <td>100</td>\n",
       "      <td>2023-12-19</td>\n",
       "      <td>20.0</td>\n",
       "      <td>500</td>\n",
       "      <td>400</td>\n",
       "      <td>Healthcare</td>\n",
       "      <td>Unknown</td>\n",
       "      <td>$733</td>\n",
       "      <td>2023</td>\n",
       "      <td>32.81841</td>\n",
       "      <td>34.98850</td>\n",
       "    </tr>\n",
       "    <tr>\n",
       "      <th>2</th>\n",
       "      <td>6</td>\n",
       "      <td>Enphase Energy</td>\n",
       "      <td>San Francisco Bay Area</td>\n",
       "      <td>USA</td>\n",
       "      <td>North America</td>\n",
       "      <td>350</td>\n",
       "      <td>2023-12-18</td>\n",
       "      <td>10.0</td>\n",
       "      <td>3500</td>\n",
       "      <td>3150</td>\n",
       "      <td>Energy</td>\n",
       "      <td>Post-IPO</td>\n",
       "      <td>$116</td>\n",
       "      <td>2023</td>\n",
       "      <td>37.54827</td>\n",
       "      <td>-121.98857</td>\n",
       "    </tr>\n",
       "    <tr>\n",
       "      <th>3</th>\n",
       "      <td>7</td>\n",
       "      <td>Udaan</td>\n",
       "      <td>Bengaluru</td>\n",
       "      <td>India</td>\n",
       "      <td>Asia</td>\n",
       "      <td>100</td>\n",
       "      <td>2023-12-18</td>\n",
       "      <td>10.0</td>\n",
       "      <td>1000</td>\n",
       "      <td>900</td>\n",
       "      <td>Retail</td>\n",
       "      <td>Unknown</td>\n",
       "      <td>1500</td>\n",
       "      <td>2023</td>\n",
       "      <td>12.97194</td>\n",
       "      <td>77.59369</td>\n",
       "    </tr>\n",
       "    <tr>\n",
       "      <th>4</th>\n",
       "      <td>14</td>\n",
       "      <td>Cruise</td>\n",
       "      <td>San Francisco Bay Area</td>\n",
       "      <td>USA</td>\n",
       "      <td>North America</td>\n",
       "      <td>900</td>\n",
       "      <td>2023-12-14</td>\n",
       "      <td>24.0</td>\n",
       "      <td>3750</td>\n",
       "      <td>2850</td>\n",
       "      <td>Transportation</td>\n",
       "      <td>Acquired</td>\n",
       "      <td>$15000</td>\n",
       "      <td>2023</td>\n",
       "      <td>37.77493</td>\n",
       "      <td>-122.41942</td>\n",
       "    </tr>\n",
       "  </tbody>\n",
       "</table>\n",
       "</div>"
      ],
      "text/plain": [
       "    #         Company             Location_HQ Country      Continent  \\\n",
       "0   3       ShareChat               Bengaluru   India           Asia   \n",
       "1   4       InSightec                   Haifa  Israel           Asia   \n",
       "2   6  Enphase Energy  San Francisco Bay Area     USA  North America   \n",
       "3   7           Udaan               Bengaluru   India           Asia   \n",
       "4  14          Cruise  San Francisco Bay Area     USA  North America   \n",
       "\n",
       "   Laid_Off Date_layoffs  Percentage  Company_Size_before_Layoffs  \\\n",
       "0       200   2023-12-20        15.0                         1333   \n",
       "1       100   2023-12-19        20.0                          500   \n",
       "2       350   2023-12-18        10.0                         3500   \n",
       "3       100   2023-12-18        10.0                         1000   \n",
       "4       900   2023-12-14        24.0                         3750   \n",
       "\n",
       "   Company_Size_after_layoffs        Industry     Stage Money_Raised_in_$_mil  \\\n",
       "0                        1133        Consumer  Series H                 $1700   \n",
       "1                         400      Healthcare   Unknown                  $733   \n",
       "2                        3150          Energy  Post-IPO                  $116   \n",
       "3                         900          Retail   Unknown                  1500   \n",
       "4                        2850  Transportation  Acquired                $15000   \n",
       "\n",
       "   Year       lat        lng  \n",
       "0  2023  12.97194   77.59369  \n",
       "1  2023  32.81841   34.98850  \n",
       "2  2023  37.54827 -121.98857  \n",
       "3  2023  12.97194   77.59369  \n",
       "4  2023  37.77493 -122.41942  "
      ]
     },
     "execution_count": 2,
     "metadata": {},
     "output_type": "execute_result"
    }
   ],
   "source": [
    "df = pd.read_excel('./data/tech_layoffs.xlsx')\n",
    "df.head()"
   ]
  },
  {
   "cell_type": "code",
   "execution_count": 3,
   "metadata": {},
   "outputs": [],
   "source": [
    "#remove company name\n",
    "df = df.drop(columns=['Company'])"
   ]
  },
  {
   "cell_type": "code",
   "execution_count": 4,
   "metadata": {},
   "outputs": [
    {
     "data": {
      "text/plain": [
       "0     1700.0\n",
       "1      733.0\n",
       "2      116.0\n",
       "3      500.0\n",
       "4    15000.0\n",
       "Name: Funding, dtype: float64"
      ]
     },
     "execution_count": 4,
     "metadata": {},
     "output_type": "execute_result"
    }
   ],
   "source": [
    "df['Funding'] = df['Money_Raised_in_$_mil'].apply(lambda s: np.float64(s[1:])) \n",
    "df['Money_Raised_in_$_mil'] = df['Money_Raised_in_$_mil'].apply(lambda s: np.float64(s[1:])) \n",
    "df['Funding'].head()"
   ]
  },
  {
   "cell_type": "code",
   "execution_count": 5,
   "metadata": {},
   "outputs": [
    {
     "data": {
      "text/html": [
       "<div>\n",
       "<style scoped>\n",
       "    .dataframe tbody tr th:only-of-type {\n",
       "        vertical-align: middle;\n",
       "    }\n",
       "\n",
       "    .dataframe tbody tr th {\n",
       "        vertical-align: top;\n",
       "    }\n",
       "\n",
       "    .dataframe thead th {\n",
       "        text-align: right;\n",
       "    }\n",
       "</style>\n",
       "<table border=\"1\" class=\"dataframe\">\n",
       "  <thead>\n",
       "    <tr style=\"text-align: right;\">\n",
       "      <th></th>\n",
       "      <th>#</th>\n",
       "      <th>Location_HQ</th>\n",
       "      <th>Country</th>\n",
       "      <th>Continent</th>\n",
       "      <th>Laid_Off</th>\n",
       "      <th>Date_layoffs</th>\n",
       "      <th>Percentage</th>\n",
       "      <th>Company_Size_before_Layoffs</th>\n",
       "      <th>Company_Size_after_layoffs</th>\n",
       "      <th>Industry</th>\n",
       "      <th>Stage</th>\n",
       "      <th>Money_Raised_in_$_mil</th>\n",
       "      <th>Year</th>\n",
       "      <th>lat</th>\n",
       "      <th>lng</th>\n",
       "      <th>Funding</th>\n",
       "    </tr>\n",
       "  </thead>\n",
       "  <tbody>\n",
       "    <tr>\n",
       "      <th>0</th>\n",
       "      <td>3</td>\n",
       "      <td>Bengaluru</td>\n",
       "      <td>India</td>\n",
       "      <td>Asia</td>\n",
       "      <td>200</td>\n",
       "      <td>2023-12-20</td>\n",
       "      <td>15.0</td>\n",
       "      <td>1333</td>\n",
       "      <td>1133</td>\n",
       "      <td>Consumer</td>\n",
       "      <td>Series H</td>\n",
       "      <td>1700.0</td>\n",
       "      <td>2023</td>\n",
       "      <td>12.97194</td>\n",
       "      <td>77.59369</td>\n",
       "      <td>1700.0</td>\n",
       "    </tr>\n",
       "    <tr>\n",
       "      <th>1</th>\n",
       "      <td>4</td>\n",
       "      <td>Haifa</td>\n",
       "      <td>Israel</td>\n",
       "      <td>Asia</td>\n",
       "      <td>100</td>\n",
       "      <td>2023-12-19</td>\n",
       "      <td>20.0</td>\n",
       "      <td>500</td>\n",
       "      <td>400</td>\n",
       "      <td>Healthcare</td>\n",
       "      <td>Unknown</td>\n",
       "      <td>733.0</td>\n",
       "      <td>2023</td>\n",
       "      <td>32.81841</td>\n",
       "      <td>34.98850</td>\n",
       "      <td>733.0</td>\n",
       "    </tr>\n",
       "    <tr>\n",
       "      <th>2</th>\n",
       "      <td>6</td>\n",
       "      <td>San Francisco Bay Area</td>\n",
       "      <td>USA</td>\n",
       "      <td>North America</td>\n",
       "      <td>350</td>\n",
       "      <td>2023-12-18</td>\n",
       "      <td>10.0</td>\n",
       "      <td>3500</td>\n",
       "      <td>3150</td>\n",
       "      <td>Energy</td>\n",
       "      <td>Post-IPO</td>\n",
       "      <td>116.0</td>\n",
       "      <td>2023</td>\n",
       "      <td>37.54827</td>\n",
       "      <td>-121.98857</td>\n",
       "      <td>116.0</td>\n",
       "    </tr>\n",
       "    <tr>\n",
       "      <th>3</th>\n",
       "      <td>7</td>\n",
       "      <td>Bengaluru</td>\n",
       "      <td>India</td>\n",
       "      <td>Asia</td>\n",
       "      <td>100</td>\n",
       "      <td>2023-12-18</td>\n",
       "      <td>10.0</td>\n",
       "      <td>1000</td>\n",
       "      <td>900</td>\n",
       "      <td>Retail</td>\n",
       "      <td>Unknown</td>\n",
       "      <td>500.0</td>\n",
       "      <td>2023</td>\n",
       "      <td>12.97194</td>\n",
       "      <td>77.59369</td>\n",
       "      <td>500.0</td>\n",
       "    </tr>\n",
       "    <tr>\n",
       "      <th>4</th>\n",
       "      <td>14</td>\n",
       "      <td>San Francisco Bay Area</td>\n",
       "      <td>USA</td>\n",
       "      <td>North America</td>\n",
       "      <td>900</td>\n",
       "      <td>2023-12-14</td>\n",
       "      <td>24.0</td>\n",
       "      <td>3750</td>\n",
       "      <td>2850</td>\n",
       "      <td>Transportation</td>\n",
       "      <td>Acquired</td>\n",
       "      <td>15000.0</td>\n",
       "      <td>2023</td>\n",
       "      <td>37.77493</td>\n",
       "      <td>-122.41942</td>\n",
       "      <td>15000.0</td>\n",
       "    </tr>\n",
       "  </tbody>\n",
       "</table>\n",
       "</div>"
      ],
      "text/plain": [
       "    #             Location_HQ Country      Continent  Laid_Off Date_layoffs  \\\n",
       "0   3               Bengaluru   India           Asia       200   2023-12-20   \n",
       "1   4                   Haifa  Israel           Asia       100   2023-12-19   \n",
       "2   6  San Francisco Bay Area     USA  North America       350   2023-12-18   \n",
       "3   7               Bengaluru   India           Asia       100   2023-12-18   \n",
       "4  14  San Francisco Bay Area     USA  North America       900   2023-12-14   \n",
       "\n",
       "   Percentage  Company_Size_before_Layoffs  Company_Size_after_layoffs  \\\n",
       "0        15.0                         1333                        1133   \n",
       "1        20.0                          500                         400   \n",
       "2        10.0                         3500                        3150   \n",
       "3        10.0                         1000                         900   \n",
       "4        24.0                         3750                        2850   \n",
       "\n",
       "         Industry     Stage  Money_Raised_in_$_mil  Year       lat        lng  \\\n",
       "0        Consumer  Series H                 1700.0  2023  12.97194   77.59369   \n",
       "1      Healthcare   Unknown                  733.0  2023  32.81841   34.98850   \n",
       "2          Energy  Post-IPO                  116.0  2023  37.54827 -121.98857   \n",
       "3          Retail   Unknown                  500.0  2023  12.97194   77.59369   \n",
       "4  Transportation  Acquired                15000.0  2023  37.77493 -122.41942   \n",
       "\n",
       "   Funding  \n",
       "0   1700.0  \n",
       "1    733.0  \n",
       "2    116.0  \n",
       "3    500.0  \n",
       "4  15000.0  "
      ]
     },
     "execution_count": 5,
     "metadata": {},
     "output_type": "execute_result"
    }
   ],
   "source": [
    "df.head()"
   ]
  },
  {
   "cell_type": "code",
   "execution_count": 6,
   "metadata": {},
   "outputs": [
    {
     "data": {
      "text/plain": [
       "#                                       int64\n",
       "Location_HQ                            object\n",
       "Country                                object\n",
       "Continent                              object\n",
       "Laid_Off                                int64\n",
       "Date_layoffs                   datetime64[ns]\n",
       "Percentage                            float64\n",
       "Company_Size_before_Layoffs             int64\n",
       "Company_Size_after_layoffs              int64\n",
       "Industry                               object\n",
       "Stage                                  object\n",
       "Money_Raised_in_$_mil                 float64\n",
       "Year                                    int64\n",
       "lat                                   float64\n",
       "lng                                   float64\n",
       "Funding                               float64\n",
       "dtype: object"
      ]
     },
     "execution_count": 6,
     "metadata": {},
     "output_type": "execute_result"
    }
   ],
   "source": [
    "df.dtypes"
   ]
  },
  {
   "cell_type": "code",
   "execution_count": 7,
   "metadata": {},
   "outputs": [
    {
     "name": "stdout",
     "output_type": "stream",
     "text": [
      "No, null values do not exist\n"
     ]
    }
   ],
   "source": [
    "def check_null_values(df):\n",
    "    null_values = df.isnull().sum().sum()\n",
    "    if null_values == 0:\n",
    "        print(\"No, null values do not exist\")\n",
    "    else:\n",
    "        print(\"Yes, null values exist\")\n",
    "check_null_values(df)"
   ]
  },
  {
   "cell_type": "markdown",
   "metadata": {},
   "source": [
    "# Results\n",
    "\n",
    "## Exploratory Data Analysis\n",
    "\n",
    "Carry out whatever EDA you need to for your project.  Because every project will be different we can't really give you much of a template at this point. But please make sure you describe the what and why in text here as well as providing interpretation of results and context."
   ]
  },
  {
   "cell_type": "markdown",
   "metadata": {},
   "source": [
    "## First Analysis You Did - Give it a better title\n",
    "\n",
    "Some more words and stuff.  Remember notebooks work best if you interleave the code that generates a result with properly annotate figures and text that puts these results into context."
   ]
  },
  {
   "cell_type": "code",
   "execution_count": null,
   "metadata": {},
   "outputs": [],
   "source": [
    "## YOUR CODE HERE\n",
    "## FEEL FREE TO ADD MULTIPLE CELLS PER SECTION"
   ]
  },
  {
   "cell_type": "markdown",
   "metadata": {},
   "source": [
    "## Industry trends\n",
    "\n",
    "In this section, we examine layoff rates across different industries and years to identify potential patterns that may suggest industry-specific trends in workforce reductions. Recognizing that industries naturally vary in company size — with differences, for example, between expansive corporate chains and private research organizations — our goal is to illuminate whether layoffs are more significantly influenced by the size of the company or by the industry to which it belongs. This investigation will help determine the relative impact of industry characteristics versus company scale on layoff occurrences."
   ]
  },
  {
   "cell_type": "markdown",
   "metadata": {},
   "source": [
    "### Layoffs by industry"
   ]
  },
  {
   "cell_type": "code",
   "execution_count": 8,
   "metadata": {},
   "outputs": [
    {
     "data": {
      "image/png": "[encoded data removed]",
      "text/plain": [
       "<Figure size 1200x600 with 1 Axes>"
      ]
     },
     "metadata": {},
     "output_type": "display_data"
    }
   ],
   "source": [
    "\n",
    "# company size before/after layoffs by industry\n",
    "industry_sizes = df.groupby('Industry').agg({\n",
    "    'Company_Size_before_Layoffs': 'mean',\n",
    "    'Company_Size_after_layoffs': 'mean'\n",
    "})\n",
    "\n",
    "#plot\n",
    "industry_sizes.plot(kind = 'bar', figsize = (12, 6), color  = ['#A9DFBF', '#A9CCE3'])\n",
    "plt.title('Comparison of Company Sizes Before and After Layoffs by Industry')\n",
    "plt.xlabel('Industry', fontsize = 13)\n",
    "plt.ylabel('Average Company Size', fontsize = 13)\n",
    "plt.xticks(rotation = 45)\n",
    "plt.legend(['Before Layoffs', 'After Layoffs'])\n",
    "plt.grid(True)\n",
    "plt.tight_layout()"
   ]
  },
  {
   "cell_type": "markdown",
   "metadata": {},
   "source": [
    "This graph illustrates the average size of companies within an industry, and their relative size after total layoffs for this dataset. We can see that the hardware and retail industries have both of the largest company sizes in this data, with hardware having the largest decrease in size after layoffs. With this in mind, we can further investigate if certain industries are more prone to layoffs than others."
   ]
  },
  {
   "cell_type": "markdown",
   "metadata": {},
   "source": [
    "### ANOVA on layoff rates by industry\n",
    "\n",
    "In order to further investigate any correlation between layoff rates and industry, an ANOVA was conducted between the `Laid_Off` and `Industry columns`. This test resulted in a low p-value, which suggests that there is a statistically significant difference in layoff rates across different industries. However, this does not account for relative company size to lay-off rates, which we will explore later on, in the funding section."
   ]
  },
  {
   "cell_type": "code",
   "execution_count": 9,
   "metadata": {},
   "outputs": [
    {
     "name": "stdout",
     "output_type": "stream",
     "text": [
      "                   sum_sq      df         F    PR(>F)\n",
      "C(Industry)  5.018778e+07    29.0  2.307856  0.000105\n",
      "Residual     1.040832e+09  1388.0       NaN       NaN\n"
     ]
    }
   ],
   "source": [
    "# ANOVA on layoff rates by industry\n",
    "time_series_df = df.dropna(subset=['Year', 'Laid_Off'])\n",
    "\n",
    "time_series_df = time_series_df.dropna(subset=['Laid_Off'])\n",
    "\n",
    "model = ols('Laid_Off ~ C(Industry)', data=time_series_df).fit()\n",
    "anova_table = sm.stats.anova_lm(model, typ=2)\n",
    "\n",
    "print(anova_table)"
   ]
  },
  {
   "cell_type": "markdown",
   "metadata": {},
   "source": [
    "## ETC AD NASEUM\n",
    "\n",
    "Some more words and stuff.  Remember notebooks work best if you interleave the code that generates a result with properly annotate figures and text that puts these results into context."
   ]
  },
  {
   "cell_type": "code",
   "execution_count": null,
   "metadata": {},
   "outputs": [],
   "source": [
    "## YOUR CODE HERE\n",
    "## FEEL FREE TO ADD MULTIPLE CELLS PER SECTION"
   ]
  },
  {
   "cell_type": "markdown",
   "metadata": {},
   "source": [
    "# Ethics & Privacy"
   ]
  },
  {
   "cell_type": "markdown",
   "metadata": {},
   "source": [
    "##### Potential ethical concerns and how we plan to address them: \n",
    "Our dataset is webscraped from Layoffs.fyi, which contains explicit personal information on individuals who were laid off. Without explicit documentation of informed consent, for the sake of privacy conservation, we will be omitting this information and focusing on the metadata (corporations over the individual). Additionally, Layoffs.fyi only pulls data from news articles, so it is a biased sample that is pulled from data that is only accessible to the public. This dataset is primarily constructed by data contained to the USA, which effectively neglects layoffs that occur in other regions of the world, leading to potentially biased analysis and results. As a result of unsatisfactory observations from foreign countries, we will be orienting our data analysis in the context of the USA's economy. However, we will still include models and representations of non-US observations to provide scope and a point of reference to our data. The timeframe of our data is 2020-2024, which unfortunately excludes a larger historical context regarding layoffs, compounding potential bias and lack of scope. Due to this, our analysis will be further oriented towards a COVID and post-COVID economy. Before performing data analysis, we used a bootstrap p-test to confirm the data was not biased in terms of funding on the basis of geographic location. Despite having a significantly large portion of our data be from the California Bay Area, there is no statistically significant difference in the percentage of employees laid off."
   ]
  },
  {
   "cell_type": "markdown",
   "metadata": {},
   "source": [
    "# Discusison and Conclusion\n",
    "\n",
    "Wrap it all up here.  Somewhere between 3 and 10 paragraphs roughly.  A good time to refer back to your Background section and review how this work extended the previous stuff. \n",
    "\n",
    "\n",
    "# Team Contributions\n",
    "\n",
    "##### McKayla\n",
    "- Data viz, EDA, and analysis on industry trends and time\n",
    "- Contribution to  prior work & background\n",
    "- \n",
    "\n",
    "##### Sebastian\n",
    "-\n",
    "\n",
    "##### Matthew\n",
    "-\n",
    "\n",
    "##### Anna\n",
    "-\n",
    "\n",
    "##### Kirthin\n",
    "-"
   ]
  }
 ],
 "metadata": {
  "kernelspec": {
   "display_name": "Python 3 (ipykernel)",
   "language": "python",
   "name": "python3"
  },
  "language_info": {
   "codemirror_mode": {
    "name": "ipython",
    "version": 3
   },
   "file_extension": ".py",
   "mimetype": "text/x-python",
   "name": "python",
   "nbconvert_exporter": "python",
   "pygments_lexer": "ipython3",
   "version": "3.11.7"
  }
 },
 "nbformat": 4,
 "nbformat_minor": 2
}
