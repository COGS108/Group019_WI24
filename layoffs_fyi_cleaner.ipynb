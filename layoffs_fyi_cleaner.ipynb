{
 "cells": [
  {
   "cell_type": "code",
   "execution_count": null,
   "metadata": {},
   "outputs": [],
   "source": [
    "import json\n",
    "d = json.load(open(\"data/resp.json\"))\n",
    "jtab = d[\"data\"][\"table\"]\n",
    "j_entries = jtab[\"rows\"]\n",
    "# id createdTime cellValuesByColumnId...\n",
    "for i in j_entries:\n",
    "    i.update(i[\"cellValuesByColumnId\"])\n",
    "    i.pop(\"cellValuesByColumnId\")\n",
    "    \n",
    "df2 = pd.DataFrame.from_records(j_entries)\n",
    "[i[\"name\"] for i in jtab[\"columns\"]]\n"
   ]
  },
  {
   "cell_type": "code",
   "execution_count": null,
   "metadata": {},
   "outputs": [],
   "source": [
    "## don't run this cell twice please.\n",
    "# map columns to their eng names\n",
    "df2cols = {}\n",
    "for i in jtab[\"columns\"]:\n",
    "    # id: company\n",
    "    df2cols[i[\"id\"]] = i[\"name\"]\n",
    "# df2cols\n",
    "\n",
    "df2c = list(df2.columns)\n",
    "\n",
    "for i in range(len(df2c)):\n",
    "    if df2c[i] in df2cols:\n",
    "        df2c[i] = df2cols[df2c[i]]\n",
    "\n",
    "df2.columns = df2c\n",
    "# df2\n",
    "\n",
    "lmap = jtab[\"columns\"][1][\"typeOptions\"][\"choices\"]\n",
    "df2[\"Location HQ\"] = df2[\"Location HQ\"].apply(lambda x: \" \".join([lmap[i][\"name\"] if i in lmap else i for i in x]) if (isinstance(x, list)) else print(\"weird value in loc hq\", x))\n",
    "lmap = jtab[\"columns\"][8][\"typeOptions\"][\"choices\"]\n",
    "df2[\"Stage\"] = df2[\"Stage\"].apply(lambda x: (lmap[x][\"name\"] if x in lmap else x) if (isinstance(x, str)) else print(\"weird value in stage\", x))\n",
    "lmap = jtab[\"columns\"][10][\"typeOptions\"][\"choices\"]\n",
    "df2[\"Country\"] = df2[\"Country\"].apply(lambda x: (lmap[x][\"name\"] if x in lmap else x) if (isinstance(x, str)) else print(\"weird value in country\", x))\n",
    "lmap = jtab[\"columns\"][5][\"typeOptions\"][\"choices\"]\n",
    "df2[\"Industry\"] = df2[\"Industry\"].apply(lambda x: (lmap[x][\"name\"] if x in lmap else x) if (isinstance(x, str)) else print(\"weird value in industry\", x))\n",
    "df2.head()"
   ]
  },
  {
   "cell_type": "code",
   "execution_count": null,
   "metadata": {},
   "outputs": [],
   "source": [
    "df2.to_csv(\"data/layoffs_fyi.csv\")"
   ]
  }
 ],
 "metadata": {
  "language_info": {
   "name": "python"
  }
 },
 "nbformat": 4,
 "nbformat_minor": 2
}
