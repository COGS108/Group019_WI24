{
 "cells": [
  {
   "cell_type": "markdown",
   "metadata": {},
   "source": [
    "### Title"
   ]
  },
  {
   "cell_type": "markdown",
   "metadata": {},
   "source": [
    "Some text explaining:\n",
    " - Which variable specifically we are looking into\n",
    " - It's relationship to the hypothesis\n",
    " - What we expect to find"
   ]
  },
  {
   "cell_type": "code",
   "execution_count": null,
   "metadata": {},
   "outputs": [],
   "source": [
    "# TODO: Exploratory plot 1"
   ]
  },
  {
   "cell_type": "markdown",
   "metadata": {},
   "source": [
    "Some text explaining what this plot shows and how it effectively demonstrates the variable we are looking into"
   ]
  },
  {
   "cell_type": "code",
   "execution_count": null,
   "metadata": {},
   "outputs": [],
   "source": [
    "# TODO: (OPTIONAL) Exploratory plot 2"
   ]
  },
  {
   "cell_type": "markdown",
   "metadata": {},
   "source": [
    "Some text explaining what this plot shows and how it effectively demonstrates the variable we are looking into"
   ]
  },
  {
   "cell_type": "markdown",
   "metadata": {},
   "source": [
    "Set up Null hypothesis and Alternative hypothesis\n",
    " - Null: \n",
    " - Alternative: "
   ]
  },
  {
   "cell_type": "markdown",
   "metadata": {},
   "source": [
    "$ H_0: \\mu_{\\text{purebred}} = \\mu_{\\text{mixed-breed}} $\n",
    "\n",
    "$ H_1: \\mu_{\\text{purebred}} < \\mu_{\\text{mixed-breed}} $\n",
    "\n",
    "note: smaller adoption speed means faster"
   ]
  },
  {
   "cell_type": "code",
   "execution_count": null,
   "metadata": {},
   "outputs": [],
   "source": [
    "# TODO: Perform 1 stats test (don't print entire output of a model, only the p-value)"
   ]
  },
  {
   "cell_type": "markdown",
   "metadata": {},
   "source": [
    "Use p value to demonstrate what this says about our expectations from the beginning of the section. 1-2 sentences, relate it to the hypothesis"
   ]
  }
 ],
 "metadata": {
  "language_info": {
   "name": "python"
  }
 },
 "nbformat": 4,
 "nbformat_minor": 2
}
