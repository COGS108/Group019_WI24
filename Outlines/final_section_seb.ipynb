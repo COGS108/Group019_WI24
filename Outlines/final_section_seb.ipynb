{
 "cells": [
  {
   "cell_type": "markdown",
   "metadata": {},
   "source": [
    "### Analyzing Correlation Between Funding Stage and Percentage of Employees Laid Off"
   ]
  },
  {
   "cell_type": "markdown",
   "metadata": {},
   "source": [
    "The funding stage column of our dataset contains information on which round of funding the company is on. Since a lot of these companies are startups, we have information from many companies across many different rounds of funding. We'd like to investigate if there is a correlation between these funding stages and the percentage of employees laid off. This correlation will help us determine if the funding stage of a company can be used to indicate if a company is more likely to perform large-scale layoffs."
   ]
  },
  {
   "cell_type": "code",
   "execution_count": null,
   "metadata": {},
   "outputs": [],
   "source": [
    "fig = plt.figure(figsize=(12, 5))\n",
    "sns.boxplot(x='Stage', y='Percentage', data=df, hue='Stage')\n",
    "plt.xticks(df['Stage'].unique(), rotation=45)\n",
    "plt.ylabel('Percentage Laid Off')\n",
    "plt.show()"
   ]
  },
  {
   "cell_type": "markdown",
   "metadata": {},
   "source": [
    "Looking at this plot, we can see that it appears as the companies goes through more rounds of funding, the distributions for their percentage of employees laid off tends to become smaller, and more centered between 0% - 20% of employees laid off. This is an interesting trend, so let's see if we can build a linear regressor to help identify this trend. Since the funding stage is a categorical column, we will first need to convert it into ordinal data. Ordinal data is a type of qualitative data where you can identify a clear scale between the different categories. Since funding stages happen in a sequence, and are in essence just a count of the amount of times a started has gotten funding, we can convert this to a numerical scale. To ensure it was created correctly, we will regenerate the same plot but with our numerized versions of the `Stage` column instead."
   ]
  },
  {
   "cell_type": "code",
   "execution_count": null,
   "metadata": {},
   "outputs": [],
   "source": [
    "series = ['A', 'B', 'C', 'D', 'E', 'F', 'G', 'H', 'I', 'J']\n",
    "stage_numerizer = dict(zip([f'Series {s}' for s in series], np.arange(1, len(series)+1, 1)))\n",
    "stage_numerizer['Seed'] = 0\n",
    "numerizer = defaultdict(lambda : np.nan)\n",
    "numerizer.update(stage_numerizer)\n",
    "clear_funding = df[['Percentage', 'Funding', 'Stage']]\n",
    "clear_funding.loc[:, 'Stage_numerized'] = clear_funding['Stage'].apply(lambda i: numerizer[i])\n",
    "\n",
    "fig = plt.figure(figsize=(12, 5))\n",
    "sns.boxplot(x='Stage_numerized', y='Percentage', data=clear_funding, hue='Stage')\n",
    "plt.xlabel('Stage Numerized')\n",
    "plt.ylabel('Percentage Laid Off')\n",
    "plt.legend().remove()\n",
    "plt.show()"
   ]
  },
  {
   "cell_type": "markdown",
   "metadata": {},
   "source": [
    "Looks like we created it correctly. Lets see if we can perform a linear regression now and find a correlation between Stage Numerized and "
   ]
  },
  {
   "cell_type": "markdown",
   "metadata": {},
   "source": [
    "\n",
    "$ H_0: \\text{There is no satistically significant correlation between the Stage\\_numerized and Percentage columns} $\n",
    "\n",
    "$ H_1: \\text{There is a satistically significant correlation between the Stage\\_numerized and Percentage columns} $\n",
    "\n",
    "For this test, we will be using a p-value of 0.01. We will use a smaller p-value because we converted the data numerically, and are omitting some of the other funding stages that did not fit into this ordinal categorization. A smaller p-value will help eliminate some of the bias introduced by performing these modifications."
   ]
  },
  {
   "cell_type": "code",
   "execution_count": null,
   "metadata": {},
   "outputs": [],
   "source": [
    "outcome, predictors = patsy.dmatrices('Percentage ~ Stage_numerized', clear_funding)\n",
    "model = sm.OLS(outcome, predictors)\n",
    "results = model.fit()\n",
    "p_value = results.pvalues[1]\n",
    "t_value = results.tvalues[1]\n",
    "stages = np.sort(clear_funding['Stage_numerized'].unique())\n",
    "\n",
    "fig = plt.figure(figsize=(12, 5))\n",
    "sns.boxplot(x='Stage_numerized', y='Percentage', data=clear_funding, hue='Stage')\n",
    "\n",
    "predicted_percentage = results.params[0] + results.params[1] * stages\n",
    "sns.lineplot(x=stages, y=predicted_percentage, color='red', linewidth=2, label='Linear Regression')\n",
    "plt.xlabel('Stage Numerized')\n",
    "plt.ylabel('Percentage Laid Off')\n",
    "plt.legend(loc='upper right', handles=[\n",
    "    mpatches.Patch(color='red', label='Linear Regression'),\n",
    "    mpatches.Patch(color='none', label=f'P_value={np.round(p_value, 4)}'),\n",
    "    mpatches.Patch(color='none', label=f'P_value={np.round(t_value, 4)}'),\n",
    "])\n",
    "plt.title('Linearly Regressed Layoff Percentage using Stage Numerized')\n",
    "plt.show()"
   ]
  },
  {
   "cell_type": "markdown",
   "metadata": {},
   "source": [
    "We succesfully disproved the null hypothesis with a p-value of $0.0$, this suggests that there is a statistically significant correlation between the numerized stage and the percentage of employees laid off. With a t-value of $-11.5861$, we find that for every round of funding, a company that performs layoffs is expted to layoff around $10\\%$ less employees. This means that if you were looking to identify a company to be more likely to perform a large-scale layoff, it would be a company that is in the lower funding stages."
   ]
  },
  {
   "cell_type": "markdown",
   "metadata": {},
   "source": []
  }
 ],
 "metadata": {
  "language_info": {
   "name": "python"
  }
 },
 "nbformat": 4,
 "nbformat_minor": 2
}
