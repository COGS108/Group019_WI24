{
 "cells": [
  {
   "cell_type": "code",
   "execution_count": 1,
   "metadata": {},
   "outputs": [],
   "source": [
    "import pandas as pd\n",
    "import numpy as np\n"
   ]
  },
  {
   "cell_type": "markdown",
   "metadata": {},
   "source": [
    "## Loading in data"
   ]
  },
  {
   "cell_type": "code",
   "execution_count": 4,
   "metadata": {},
   "outputs": [
    {
     "data": {
      "text/html": [
       "<div>\n",
       "<style scoped>\n",
       "    .dataframe tbody tr th:only-of-type {\n",
       "        vertical-align: middle;\n",
       "    }\n",
       "\n",
       "    .dataframe tbody tr th {\n",
       "        vertical-align: top;\n",
       "    }\n",
       "\n",
       "    .dataframe thead th {\n",
       "        text-align: right;\n",
       "    }\n",
       "</style>\n",
       "<table border=\"1\" class=\"dataframe\">\n",
       "  <thead>\n",
       "    <tr style=\"text-align: right;\">\n",
       "      <th></th>\n",
       "      <th>#</th>\n",
       "      <th>Company</th>\n",
       "      <th>Location_HQ</th>\n",
       "      <th>Country</th>\n",
       "      <th>Continent</th>\n",
       "      <th>Laid_Off</th>\n",
       "      <th>Date_layoffs</th>\n",
       "      <th>Percentage</th>\n",
       "      <th>Company_Size_before_Layoffs</th>\n",
       "      <th>Company_Size_after_layoffs</th>\n",
       "      <th>Industry</th>\n",
       "      <th>Stage</th>\n",
       "      <th>Money_Raised_in_$_mil</th>\n",
       "      <th>Year</th>\n",
       "      <th>lat</th>\n",
       "      <th>lng</th>\n",
       "    </tr>\n",
       "  </thead>\n",
       "  <tbody>\n",
       "    <tr>\n",
       "      <th>0</th>\n",
       "      <td>3</td>\n",
       "      <td>ShareChat</td>\n",
       "      <td>Bengaluru</td>\n",
       "      <td>India</td>\n",
       "      <td>Asia</td>\n",
       "      <td>200</td>\n",
       "      <td>2023-12-20</td>\n",
       "      <td>15.0</td>\n",
       "      <td>1333</td>\n",
       "      <td>1133</td>\n",
       "      <td>Consumer</td>\n",
       "      <td>Series H</td>\n",
       "      <td>$1700</td>\n",
       "      <td>2023</td>\n",
       "      <td>12.97194</td>\n",
       "      <td>77.59369</td>\n",
       "    </tr>\n",
       "    <tr>\n",
       "      <th>1</th>\n",
       "      <td>4</td>\n",
       "      <td>InSightec</td>\n",
       "      <td>Haifa</td>\n",
       "      <td>Israel</td>\n",
       "      <td>Asia</td>\n",
       "      <td>100</td>\n",
       "      <td>2023-12-19</td>\n",
       "      <td>20.0</td>\n",
       "      <td>500</td>\n",
       "      <td>400</td>\n",
       "      <td>Healthcare</td>\n",
       "      <td>Unknown</td>\n",
       "      <td>$733</td>\n",
       "      <td>2023</td>\n",
       "      <td>32.81841</td>\n",
       "      <td>34.98850</td>\n",
       "    </tr>\n",
       "    <tr>\n",
       "      <th>2</th>\n",
       "      <td>6</td>\n",
       "      <td>Enphase Energy</td>\n",
       "      <td>San Francisco Bay Area</td>\n",
       "      <td>USA</td>\n",
       "      <td>North America</td>\n",
       "      <td>350</td>\n",
       "      <td>2023-12-18</td>\n",
       "      <td>10.0</td>\n",
       "      <td>3500</td>\n",
       "      <td>3150</td>\n",
       "      <td>Energy</td>\n",
       "      <td>Post-IPO</td>\n",
       "      <td>$116</td>\n",
       "      <td>2023</td>\n",
       "      <td>37.54827</td>\n",
       "      <td>-121.98857</td>\n",
       "    </tr>\n",
       "    <tr>\n",
       "      <th>3</th>\n",
       "      <td>7</td>\n",
       "      <td>Udaan</td>\n",
       "      <td>Bengaluru</td>\n",
       "      <td>India</td>\n",
       "      <td>Asia</td>\n",
       "      <td>100</td>\n",
       "      <td>2023-12-18</td>\n",
       "      <td>10.0</td>\n",
       "      <td>1000</td>\n",
       "      <td>900</td>\n",
       "      <td>Retail</td>\n",
       "      <td>Unknown</td>\n",
       "      <td>1500</td>\n",
       "      <td>2023</td>\n",
       "      <td>12.97194</td>\n",
       "      <td>77.59369</td>\n",
       "    </tr>\n",
       "    <tr>\n",
       "      <th>4</th>\n",
       "      <td>14</td>\n",
       "      <td>Cruise</td>\n",
       "      <td>San Francisco Bay Area</td>\n",
       "      <td>USA</td>\n",
       "      <td>North America</td>\n",
       "      <td>900</td>\n",
       "      <td>2023-12-14</td>\n",
       "      <td>24.0</td>\n",
       "      <td>3750</td>\n",
       "      <td>2850</td>\n",
       "      <td>Transportation</td>\n",
       "      <td>Acquired</td>\n",
       "      <td>$15000</td>\n",
       "      <td>2023</td>\n",
       "      <td>37.77493</td>\n",
       "      <td>-122.41942</td>\n",
       "    </tr>\n",
       "  </tbody>\n",
       "</table>\n",
       "</div>"
      ],
      "text/plain": [
       "    #         Company             Location_HQ Country      Continent  \\\n",
       "0   3       ShareChat               Bengaluru   India           Asia   \n",
       "1   4       InSightec                   Haifa  Israel           Asia   \n",
       "2   6  Enphase Energy  San Francisco Bay Area     USA  North America   \n",
       "3   7           Udaan               Bengaluru   India           Asia   \n",
       "4  14          Cruise  San Francisco Bay Area     USA  North America   \n",
       "\n",
       "   Laid_Off Date_layoffs  Percentage  Company_Size_before_Layoffs  \\\n",
       "0       200   2023-12-20        15.0                         1333   \n",
       "1       100   2023-12-19        20.0                          500   \n",
       "2       350   2023-12-18        10.0                         3500   \n",
       "3       100   2023-12-18        10.0                         1000   \n",
       "4       900   2023-12-14        24.0                         3750   \n",
       "\n",
       "   Company_Size_after_layoffs        Industry     Stage Money_Raised_in_$_mil  \\\n",
       "0                        1133        Consumer  Series H                 $1700   \n",
       "1                         400      Healthcare   Unknown                  $733   \n",
       "2                        3150          Energy  Post-IPO                  $116   \n",
       "3                         900          Retail   Unknown                  1500   \n",
       "4                        2850  Transportation  Acquired                $15000   \n",
       "\n",
       "   Year       lat        lng  \n",
       "0  2023  12.97194   77.59369  \n",
       "1  2023  32.81841   34.98850  \n",
       "2  2023  37.54827 -121.98857  \n",
       "3  2023  12.97194   77.59369  \n",
       "4  2023  37.77493 -122.41942  "
      ]
     },
     "execution_count": 4,
     "metadata": {},
     "output_type": "execute_result"
    }
   ],
   "source": [
    "df = pd.read_excel('/Users/sebastian/Documents/code-things/Group019_WI24/data/tech_layoffs.xlsx')\n",
    "df.head()"
   ]
  },
  {
   "cell_type": "markdown",
   "metadata": {},
   "source": [
    "## Correcting data types\n",
    "\n",
    "In order to prepare the data for exploratory analysis, we are going to correct the datatypes such that they are easily usable by plotting functions."
   ]
  },
  {
   "cell_type": "code",
   "execution_count": 10,
   "metadata": {},
   "outputs": [
    {
     "data": {
      "text/plain": [
       "#                                       int64\n",
       "Company                                object\n",
       "Location_HQ                            object\n",
       "Country                                object\n",
       "Continent                              object\n",
       "Laid_Off                                int64\n",
       "Date_layoffs                   datetime64[ns]\n",
       "Percentage                            float64\n",
       "Company_Size_before_Layoffs             int64\n",
       "Company_Size_after_layoffs              int64\n",
       "Industry                               object\n",
       "Stage                                  object\n",
       "Money_Raised_in_$_mil                  object\n",
       "Year                                    int64\n",
       "lat                                   float64\n",
       "lng                                   float64\n",
       "Funding                               float64\n",
       "dtype: object"
      ]
     },
     "execution_count": 10,
     "metadata": {},
     "output_type": "execute_result"
    }
   ],
   "source": [
    "df.dtypes"
   ]
  },
  {
   "cell_type": "code",
   "execution_count": 9,
   "metadata": {},
   "outputs": [
    {
     "data": {
      "text/plain": [
       "0     1700.0\n",
       "1      733.0\n",
       "2      116.0\n",
       "3      500.0\n",
       "4    15000.0\n",
       "Name: Funding, dtype: float64"
      ]
     },
     "execution_count": 9,
     "metadata": {},
     "output_type": "execute_result"
    }
   ],
   "source": [
    "df['Funding'] = df['Money_Raised_in_$_mil'].apply(lambda s: np.float64(s[1:])) \n",
    "df['Funding'].head()"
   ]
  },
  {
   "cell_type": "code",
   "execution_count": null,
   "metadata": {},
   "outputs": [],
   "source": []
  }
 ],
 "metadata": {
  "kernelspec": {
   "display_name": "dsc80",
   "language": "python",
   "name": "python3"
  },
  "language_info": {
   "codemirror_mode": {
    "name": "ipython",
    "version": 3
   },
   "file_extension": ".py",
   "mimetype": "text/x-python",
   "name": "python",
   "nbconvert_exporter": "python",
   "pygments_lexer": "ipython3",
   "version": "3.8.16"
  }
 },
 "nbformat": 4,
 "nbformat_minor": 2
}
