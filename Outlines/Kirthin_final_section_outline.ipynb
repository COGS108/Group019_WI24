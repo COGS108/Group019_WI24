{
 "cells": [
  {
   "cell_type": "markdown",
   "metadata": {},
   "source": [
    "### Correlation Between Money Raised in Millions and Percentage Laid Off"
   ]
  },
  {
   "cell_type": "markdown",
   "metadata": {},
   "source": [
    "In this section we are looking at the correlation between the money a company raises and the percentage of their staff, they laid off. We expect larger companies to layoff a higher percentage of employees than smaller companies because they will be able to raise more money and handle these layoffs, while the small companies would need their staff."
   ]
  },
  {
   "cell_type": "code",
   "execution_count": 1,
   "metadata": {},
   "outputs": [
    {
     "ename": "NameError",
     "evalue": "name 'plt' is not defined",
     "output_type": "error",
     "traceback": [
      "\u001b[0;31m---------------------------------------------------------------------------\u001b[0m",
      "\u001b[0;31mNameError\u001b[0m                                 Traceback (most recent call last)",
      "Cell \u001b[0;32mIn[1], line 1\u001b[0m\n\u001b[0;32m----> 1\u001b[0m plt\u001b[38;5;241m.\u001b[39mscatter(df[\u001b[38;5;124m'\u001b[39m\u001b[38;5;124mFunding\u001b[39m\u001b[38;5;124m'\u001b[39m], df[\u001b[38;5;124m'\u001b[39m\u001b[38;5;124mPercentage\u001b[39m\u001b[38;5;124m'\u001b[39m])\n\u001b[1;32m      2\u001b[0m plt\u001b[38;5;241m.\u001b[39mxlabel(\u001b[38;5;124m'\u001b[39m\u001b[38;5;124mFunding\u001b[39m\u001b[38;5;124m'\u001b[39m)\n\u001b[1;32m      3\u001b[0m plt\u001b[38;5;241m.\u001b[39mylabel(\u001b[38;5;124m'\u001b[39m\u001b[38;5;124mPercentage\u001b[39m\u001b[38;5;124m'\u001b[39m)\n",
      "\u001b[0;31mNameError\u001b[0m: name 'plt' is not defined"
     ]
    }
   ],
   "source": [
    "# Assuming df is your DataFrame containing the data\n",
    "x = df['Funding']\n",
    "y = df['Percentage']\n",
    "\n",
    "# Define the number of bins for each axis\n",
    "bins_x = np.linspace(min(x), 900, 20)\n",
    "bins_y = np.linspace(min(y), max(y), 20)\n",
    "\n",
    "# Create 2D histogram\n",
    "hist, x_edges, y_edges = np.histogram2d(x, y, bins=(bins_x, bins_y))\n",
    "\n",
    "# Create meshgrid of x and y values for plotting\n",
    "x_grid, y_grid = np.meshgrid(x_edges, y_edges)\n",
    "\n",
    "# Plot the 2D histogram using a pcolormesh\n",
    "plt.figure(figsize=(8, 6))\n",
    "plt.pcolormesh(x_grid, y_grid, hist.T, cmap='Blues')\n",
    "plt.colorbar(label='Frequency')\n",
    "\n",
    "# Add labels and title\n",
    "plt.xlabel('Funding')\n",
    "plt.ylabel('Percentage')\n",
    "plt.title('2D Histogram of Funding and Percentage')\n",
    "\n",
    "\n",
    "# Show the plot\n",
    "plt.show()"
   ]
  },
  {
   "cell_type": "markdown",
   "metadata": {},
   "source": [
    "The 2D histogram we created depicts the correlation between the two variables. We chose to remove outliers because a majority of our data comes from smaller companies relative to others on the list. From our analysis, it appears there is a negative correlation between the two variables, though it is not a strong relationship. Furthermore, we observe that as a company receives more funding, the likelihood of layoffs decreases. The majority of the darker shaded blue squares are concentrated on the left side of the plot, where funding is lower."
   ]
  },
  {
   "cell_type": "code",
   "execution_count": null,
   "metadata": {},
   "outputs": [],
   "source": [
    "no_outliers = df[df.get('Funding') < 120000]\n",
    "outcome, predictors = patsy.dmatrices('Percentage ~ Funding', no_outliers)\n",
    "model = sm.OLS(outcome, predictors)\n",
    "results = model.fit()\n",
    "slope = results.params[1]\n",
    "print(\"P-value:\", results.pvalues[1])\n",
    "print(\"T-test:\", results.tvalues[1])  \n",
    "print(\"Slope:\", slope)"
   ]
  },
  {
   "cell_type": "markdown",
   "metadata": {},
   "source": [
    "The results of the t-test revealed a statistically significant difference between the means of the two groups (p = 0.0124). Given the obtained p-value of 0.0124, which is less than the conventional significance level of 0.05, we can reject the null hypothesis and conclude that there is a significant difference between the groups.\n",
    "\n",
    "The negative t-statistic (-2.50) indicates that the mean of 'Percentage' is lower than the mean of 'Funding'. This suggests that there is a meaningful difference in the outcome variable between the two groups, with 'Percentage' exhibiting lower values compared to 'Funding'.\n",
    "\n",
    "Furthermore, the negative slope of the line indicates a negative correlation between the two variables, as highlighted in the 2D Histogram. This corroborates the observed difference between the means and provides additional evidence of the relationship between 'Percentage' and 'Funding'."
   ]
  }
 ],
 "metadata": {
  "kernelspec": {
   "display_name": "Python 3 (ipykernel)",
   "language": "python",
   "name": "python3"
  },
  "language_info": {
   "codemirror_mode": {
    "name": "ipython",
    "version": 3
   },
   "file_extension": ".py",
   "mimetype": "text/x-python",
   "name": "python",
   "nbconvert_exporter": "python",
   "pygments_lexer": "ipython3",
   "version": "3.11.5"
  }
 },
 "nbformat": 4,
 "nbformat_minor": 2
}
