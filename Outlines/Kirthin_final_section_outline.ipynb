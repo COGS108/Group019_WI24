{
 "cells": [
  {
   "cell_type": "markdown",
   "metadata": {},
   "source": [
    "### Correlation Between Money Raised in Millions and Percentage Laid Off"
   ]
  },
  {
   "cell_type": "markdown",
   "metadata": {},
   "source": [
    "In this section we are looking at the correlation between the money a company raises and the percentage of their staff, they laid off. We expect larger companies to layoff a higher percentage of employees than smaller companies because they will be able to raise more money and handle these layoffs, while the small companies would need their staff."
   ]
  },
  {
   "cell_type": "code",
   "execution_count": 1,
   "metadata": {},
   "outputs": [
    {
     "ename": "NameError",
     "evalue": "name 'plt' is not defined",
     "output_type": "error",
     "traceback": [
      "\u001b[0;31m---------------------------------------------------------------------------\u001b[0m",
      "\u001b[0;31mNameError\u001b[0m                                 Traceback (most recent call last)",
      "Cell \u001b[0;32mIn[1], line 1\u001b[0m\n\u001b[0;32m----> 1\u001b[0m plt\u001b[38;5;241m.\u001b[39mscatter(df[\u001b[38;5;124m'\u001b[39m\u001b[38;5;124mFunding\u001b[39m\u001b[38;5;124m'\u001b[39m], df[\u001b[38;5;124m'\u001b[39m\u001b[38;5;124mPercentage\u001b[39m\u001b[38;5;124m'\u001b[39m])\n\u001b[1;32m      2\u001b[0m plt\u001b[38;5;241m.\u001b[39mxlabel(\u001b[38;5;124m'\u001b[39m\u001b[38;5;124mFunding\u001b[39m\u001b[38;5;124m'\u001b[39m)\n\u001b[1;32m      3\u001b[0m plt\u001b[38;5;241m.\u001b[39mylabel(\u001b[38;5;124m'\u001b[39m\u001b[38;5;124mPercentage\u001b[39m\u001b[38;5;124m'\u001b[39m)\n",
      "\u001b[0;31mNameError\u001b[0m: name 'plt' is not defined"
     ]
    }
   ],
   "source": [
    "plt.scatter(df['Funding'], df['Percentage'])\n",
    "plt.xlabel('Funding')\n",
    "plt.ylabel('Percentage')\n",
    "plt.title('Relationship Between Funding in Millions of Dollars and Percentage Laid Off')\n",
    "linearx = np.arange(df['Funding'].min(), df['Funding'].max())\n",
    "lineary = linearx * -0.0003 + 22.1073\n",
    "plt.plot(linearx, lineary)\n",
    "plt.show()"
   ]
  },
  {
   "cell_type": "markdown",
   "metadata": {},
   "source": [
    "This scatter plot shows the relationship between the money raised, on the x-axis, and the percent laid off on the y-axis. We want to look at the percent laid off because, a larger company would have more employees than a small company so looking at percentage would give us a more accurate understanding of the relationshib between the two. We can see that there is a strong negative correlation between the two. There are two outliers on the far right. These big companies are necessary for the data, because we are looking at both big and small. We can also see that majoirty of the data is from companies raising below 40,000,000,000 in funding. "
   ]
  },
  {
   "cell_type": "markdown",
   "metadata": {},
   "source": [
    "Set up Null hypothesis and Alternative hypothesis\n",
    " - Null: \n",
    " - Alternative: "
   ]
  },
  {
   "cell_type": "markdown",
   "metadata": {},
   "source": [
    "$ H_0: \\mu_{\\text{purebred}} = \\mu_{\\text{mixed-breed}} $\n",
    "\n",
    "$ H_1: \\mu_{\\text{purebred}} < \\mu_{\\text{mixed-breed}} $\n",
    "\n",
    "note: smaller adoption speed means faster"
   ]
  },
  {
   "cell_type": "code",
   "execution_count": null,
   "metadata": {},
   "outputs": [],
   "source": [
    "no_outliers = df[df.get('Funding') < 120000]\n",
    "outcome, predictors = patsy.dmatrices('Percentage ~ Funding', no_outliers)\n",
    "model = sm.OLS(outcome, predictors)\n",
    "results = model.fit()\n",
    "print(\"P-value:\", results.pvalues[1])\n",
    "print(\"T-test:\", results.tvalues[1])"
   ]
  },
  {
   "cell_type": "markdown",
   "metadata": {},
   "source": [
    "The P-value for this is very small, less than o.05 giving us reason and evidence to reject the null hypothesis. "
   ]
  }
 ],
 "metadata": {
  "kernelspec": {
   "display_name": "Python 3 (ipykernel)",
   "language": "python",
   "name": "python3"
  },
  "language_info": {
   "codemirror_mode": {
    "name": "ipython",
    "version": 3
   },
   "file_extension": ".py",
   "mimetype": "text/x-python",
   "name": "python",
   "nbconvert_exporter": "python",
   "pygments_lexer": "ipython3",
   "version": "3.11.5"
  }
 },
 "nbformat": 4,
 "nbformat_minor": 2
}
