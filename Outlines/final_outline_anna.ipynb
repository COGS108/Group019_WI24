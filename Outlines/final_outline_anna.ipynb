{
 "cells": [
  {
   "cell_type": "markdown",
   "metadata": {},
   "source": [
    "### Relationship between Company Size Before Layoffs and Percentage of Employees Laid Off"
   ]
  },
  {
   "cell_type": "markdown",
   "metadata": {},
   "source": [
    "In this section we are looking at the effect of company size before layoffs and the percentage of employees laid off, which directly relates to our hypothesis. We expect larger companies to layoff a higher percentage of employees than smaller companies."
   ]
  },
  {
   "cell_type": "code",
   "execution_count": null,
   "metadata": {},
   "outputs": [],
   "source": [
    "# Plotting scatterplot comparing Company Size Before Layoffs and Percentage Laid Off\n",
    "plt.figure(figsize=(12,6))\n",
    "sns.scatterplot(x='Company_Size_before_Layoffs', y='Percentage', data=df, s=100)\n",
    "\n",
    "# Plotting line of best fit\n",
    "sns.regplot(x='Company_Size_before_Layoffs', y='Percentage', data=df, scatter=False, color='blue')\n",
    "\n",
    "plt.title('Company Size Before Layoffs vs. Percentage of Employees Laid Off', fontsize=20)\n",
    "plt.xlabel('Company Size Before Layoffs', fontsize=14)\n",
    "plt.ylabel('Percentage of Layoffs', fontsize=14)\n",
    "plt.show()"
   ]
  },
  {
   "cell_type": "markdown",
   "metadata": {},
   "source": [
    "According to this scatterplot, there is a relationship between company size before layoffs and the percentage of employees laid off. However, this relationship appears negative, such that, as the size of the company before layoffs increases, the percentage of layoffs decreases. This contradicts our hypothesis and expectation that larger companies will have a higher percentage of layoffs. Given this initial relationship, we would like to measure the strength of association between company size before layoffs and the percentage of employees laid off."
   ]
  },
  {
   "cell_type": "code",
   "execution_count": null,
   "metadata": {},
   "outputs": [],
   "source": [
    "#Creating a heat map to determine the different correlation coefficients for Company Size Before Layoffs, Percentage of Layoffs, Company Size After Layoffs, Money Raised in Million, and Year\n",
    "heatmap_data = df[['Company_Size_before_Layoffs', 'Percentage', 'Company_Size_after_layoffs', 'Money_Raised_in_$_mil', 'Year']]\n",
    "\n",
    "correlation_matrix = heatmap_data.corr()\n",
    "\n",
    "plt.figure(figsize=(12,6))\n",
    "sns.heatmap(correlation_matrix, annot=True, cmap='coolwarm', fmt=\".2f\")\n",
    "\n",
    "plt.title('Heatmap: Correlation Matrix of Variables')\n",
    "plt.show()"
   ]
  },
  {
   "cell_type": "markdown",
   "metadata": {},
   "source": [
    "According to this heat map, there is a weak negative correlation between company size before layoffs and the percentage of layoffs (r = -0.11). This suggests that the company size before layoffs has only a minor impact on the percentage of layoffs. It seems that the correlation coefficient is the highest between the year of the layoffs and the percentage of layoffs. Given this week negative correlation, we are interested to see if there is a significant relationship between company size before layoffs and the percentage of employees laid off."
   ]
  },
  {
   "cell_type": "markdown",
   "metadata": {},
   "source": [
    "$H_o$: There is no relationship between company size before layoffs and the percentage of employees laid off ($\\beta = 0$)\n",
    "\n",
    "$H_a$: There is a relationship between company size before layoffs and the percentage of employees laid off ($\\beta \\ne 0$)"
   ]
  },
  {
   "cell_type": "code",
   "execution_count": null,
   "metadata": {},
   "outputs": [],
   "source": [
    "# Finding the p-value and t-value using the OLS regression\n",
    "outcome, predictors = patsy.dmatrices('Percentage ~ Company_Size_before_Layoffs', df)\n",
    "model = sm.OLS(outcome, predictors)\n",
    "results = model.fit()\n",
    "print(\"P-value:\", results.pvalues[1])\n",
    "print(\"T-test:\", results.tvalues[1])"
   ]
  },
  {
   "cell_type": "markdown",
   "metadata": {},
   "source": [
    "The p-value is 3.21e-05 (p < 0.05) and the t-value is -4.171, which demonstrates a statistically significant relationship between company size before layoffs and the percentage of employees laid off. Given this p-value, we reject the null hypothesis in favor of the alternative hypothesis, concluding that larger companies before layoffs have lower percentage of layoffs. \n",
    "\n",
    "Nonetheless, this finding is different from what we hypothesized, as we expected larger companies to have a higher percentage of employee layoffs. One reason for the inverse relationship is that compared to smaller companies, larger companies have more employees to begin with, so if larger companies layoff more people than smaller companies, the percentage is not going to be as high. It is also important to consider other factors, such as industry type, geographic location, and economic condiitons, that could influence the relationship between company size before layoffs and the percentage of layoffs. "
   ]
  },
  {
   "cell_type": "markdown",
   "metadata": {},
   "source": []
  }
 ],
 "metadata": {
  "kernelspec": {
   "display_name": "Python 3",
   "language": "python",
   "name": "python3"
  },
  "language_info": {
   "codemirror_mode": {
    "name": "ipython",
    "version": 3
   },
   "file_extension": ".py",
   "mimetype": "text/x-python",
   "name": "python",
   "nbconvert_exporter": "python",
   "pygments_lexer": "ipython3",
   "version": "3.10.4"
  }
 },
 "nbformat": 4,
 "nbformat_minor": 2
}
